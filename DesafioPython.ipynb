{
 "cells": [
  {
   "cell_type": "markdown",
   "metadata": {},
   "source": [
    "Guilherme Pimentel Nunes da Silva\n"
   ]
  },
  {
   "cell_type": "code",
   "execution_count": 83,
   "metadata": {},
   "outputs": [],
   "source": [
    "#Importação do pandas e carregamento dos dados\n",
    "\n",
    "import pandas as pd\n",
    "\n",
    "\n",
    "dados = pd.read_csv(\"/home/guilherme/Downloads/DatasetRH.csv\")"
   ]
  },
  {
   "cell_type": "code",
   "execution_count": 72,
   "metadata": {},
   "outputs": [
    {
     "data": {
      "text/html": [
       "<div>\n",
       "<style scoped>\n",
       "    .dataframe tbody tr th:only-of-type {\n",
       "        vertical-align: middle;\n",
       "    }\n",
       "\n",
       "    .dataframe tbody tr th {\n",
       "        vertical-align: top;\n",
       "    }\n",
       "\n",
       "    .dataframe thead th {\n",
       "        text-align: right;\n",
       "    }\n",
       "</style>\n",
       "<table border=\"1\" class=\"dataframe\">\n",
       "  <thead>\n",
       "    <tr style=\"text-align: right;\">\n",
       "      <th></th>\n",
       "      <th>Id_Funcionario</th>\n",
       "      <th>Idade</th>\n",
       "      <th>Genero</th>\n",
       "      <th>Estado Civil</th>\n",
       "      <th>Departamento</th>\n",
       "      <th>Funcao</th>\n",
       "      <th>Viagem</th>\n",
       "      <th>Valor Diaria</th>\n",
       "      <th>Indice_Envolvimento_Trabalho</th>\n",
       "      <th>Nivel_Satisfacao_Trabalho</th>\n",
       "      <th>...</th>\n",
       "      <th>Numero_Empresas_Anteriores</th>\n",
       "      <th>Disponivel_Hora_Extra</th>\n",
       "      <th>Percentual_Ultimo_Aumento_Salario</th>\n",
       "      <th>Aval_Performance</th>\n",
       "      <th>Anos_Experiencia</th>\n",
       "      <th>Numero_Treinamentos_Ano_Anterior</th>\n",
       "      <th>Anos_na_Empresa</th>\n",
       "      <th>Anos_Funcao_Atual</th>\n",
       "      <th>Anos_Desde_Ultima_Promocao</th>\n",
       "      <th>Anos_com_Gerente_Atual</th>\n",
       "    </tr>\n",
       "  </thead>\n",
       "  <tbody>\n",
       "    <tr>\n",
       "      <th>0</th>\n",
       "      <td>1</td>\n",
       "      <td>41</td>\n",
       "      <td>Feminino</td>\n",
       "      <td>Solteiro</td>\n",
       "      <td>Data Science</td>\n",
       "      <td>Cientista de Dados</td>\n",
       "      <td>Viaja Raramente</td>\n",
       "      <td>1102</td>\n",
       "      <td>3</td>\n",
       "      <td>4</td>\n",
       "      <td>...</td>\n",
       "      <td>8</td>\n",
       "      <td>S</td>\n",
       "      <td>11</td>\n",
       "      <td>3</td>\n",
       "      <td>8</td>\n",
       "      <td>0</td>\n",
       "      <td>6</td>\n",
       "      <td>4</td>\n",
       "      <td>0</td>\n",
       "      <td>5</td>\n",
       "    </tr>\n",
       "    <tr>\n",
       "      <th>1</th>\n",
       "      <td>2</td>\n",
       "      <td>49</td>\n",
       "      <td>Masculino</td>\n",
       "      <td>Casado</td>\n",
       "      <td>Data Science</td>\n",
       "      <td>Cientista de Dados</td>\n",
       "      <td>Viaja Frequentemente</td>\n",
       "      <td>279</td>\n",
       "      <td>2</td>\n",
       "      <td>2</td>\n",
       "      <td>...</td>\n",
       "      <td>1</td>\n",
       "      <td>N</td>\n",
       "      <td>23</td>\n",
       "      <td>4</td>\n",
       "      <td>10</td>\n",
       "      <td>3</td>\n",
       "      <td>10</td>\n",
       "      <td>7</td>\n",
       "      <td>1</td>\n",
       "      <td>7</td>\n",
       "    </tr>\n",
       "    <tr>\n",
       "      <th>2</th>\n",
       "      <td>4</td>\n",
       "      <td>37</td>\n",
       "      <td>Masculino</td>\n",
       "      <td>Solteiro</td>\n",
       "      <td>Data Science</td>\n",
       "      <td>Analista de Dados</td>\n",
       "      <td>Viaja Raramente</td>\n",
       "      <td>1373</td>\n",
       "      <td>2</td>\n",
       "      <td>3</td>\n",
       "      <td>...</td>\n",
       "      <td>6</td>\n",
       "      <td>S</td>\n",
       "      <td>15</td>\n",
       "      <td>3</td>\n",
       "      <td>7</td>\n",
       "      <td>3</td>\n",
       "      <td>0</td>\n",
       "      <td>0</td>\n",
       "      <td>0</td>\n",
       "      <td>0</td>\n",
       "    </tr>\n",
       "    <tr>\n",
       "      <th>3</th>\n",
       "      <td>5</td>\n",
       "      <td>33</td>\n",
       "      <td>Feminino</td>\n",
       "      <td>Casado</td>\n",
       "      <td>Data Science</td>\n",
       "      <td>Cientista de Dados</td>\n",
       "      <td>Viaja Frequentemente</td>\n",
       "      <td>1392</td>\n",
       "      <td>3</td>\n",
       "      <td>3</td>\n",
       "      <td>...</td>\n",
       "      <td>1</td>\n",
       "      <td>S</td>\n",
       "      <td>11</td>\n",
       "      <td>3</td>\n",
       "      <td>8</td>\n",
       "      <td>3</td>\n",
       "      <td>8</td>\n",
       "      <td>7</td>\n",
       "      <td>3</td>\n",
       "      <td>0</td>\n",
       "    </tr>\n",
       "    <tr>\n",
       "      <th>4</th>\n",
       "      <td>7</td>\n",
       "      <td>27</td>\n",
       "      <td>Masculino</td>\n",
       "      <td>Casado</td>\n",
       "      <td>Data Science</td>\n",
       "      <td>Analista de Dados</td>\n",
       "      <td>Viaja Raramente</td>\n",
       "      <td>591</td>\n",
       "      <td>3</td>\n",
       "      <td>2</td>\n",
       "      <td>...</td>\n",
       "      <td>9</td>\n",
       "      <td>N</td>\n",
       "      <td>12</td>\n",
       "      <td>3</td>\n",
       "      <td>6</td>\n",
       "      <td>3</td>\n",
       "      <td>2</td>\n",
       "      <td>2</td>\n",
       "      <td>2</td>\n",
       "      <td>2</td>\n",
       "    </tr>\n",
       "  </tbody>\n",
       "</table>\n",
       "<p>5 rows × 21 columns</p>\n",
       "</div>"
      ],
      "text/plain": [
       "   Id_Funcionario  Idade     Genero Estado Civil  Departamento  \\\n",
       "0               1     41   Feminino     Solteiro  Data Science   \n",
       "1               2     49  Masculino       Casado  Data Science   \n",
       "2               4     37  Masculino     Solteiro  Data Science   \n",
       "3               5     33   Feminino       Casado  Data Science   \n",
       "4               7     27  Masculino       Casado  Data Science   \n",
       "\n",
       "               Funcao                Viagem  Valor Diaria  \\\n",
       "0  Cientista de Dados       Viaja Raramente          1102   \n",
       "1  Cientista de Dados  Viaja Frequentemente           279   \n",
       "2   Analista de Dados       Viaja Raramente          1373   \n",
       "3  Cientista de Dados  Viaja Frequentemente          1392   \n",
       "4   Analista de Dados       Viaja Raramente           591   \n",
       "\n",
       "   Indice_Envolvimento_Trabalho  Nivel_Satisfacao_Trabalho  ...  \\\n",
       "0                             3                          4  ...   \n",
       "1                             2                          2  ...   \n",
       "2                             2                          3  ...   \n",
       "3                             3                          3  ...   \n",
       "4                             3                          2  ...   \n",
       "\n",
       "   Numero_Empresas_Anteriores  Disponivel_Hora_Extra  \\\n",
       "0                           8                      S   \n",
       "1                           1                      N   \n",
       "2                           6                      S   \n",
       "3                           1                      S   \n",
       "4                           9                      N   \n",
       "\n",
       "  Percentual_Ultimo_Aumento_Salario  Aval_Performance  Anos_Experiencia  \\\n",
       "0                                11                 3                 8   \n",
       "1                                23                 4                10   \n",
       "2                                15                 3                 7   \n",
       "3                                11                 3                 8   \n",
       "4                                12                 3                 6   \n",
       "\n",
       "   Numero_Treinamentos_Ano_Anterior  Anos_na_Empresa  Anos_Funcao_Atual  \\\n",
       "0                                 0                6                  4   \n",
       "1                                 3               10                  7   \n",
       "2                                 3                0                  0   \n",
       "3                                 3                8                  7   \n",
       "4                                 3                2                  2   \n",
       "\n",
       "   Anos_Desde_Ultima_Promocao  Anos_com_Gerente_Atual  \n",
       "0                           0                       5  \n",
       "1                           1                       7  \n",
       "2                           0                       0  \n",
       "3                           3                       0  \n",
       "4                           2                       2  \n",
       "\n",
       "[5 rows x 21 columns]"
      ]
     },
     "execution_count": 72,
     "metadata": {},
     "output_type": "execute_result"
    }
   ],
   "source": [
    "#Mostrar as primeiras linhas do dataset\n",
    "\n",
    "dados.head()"
   ]
  },
  {
   "cell_type": "code",
   "execution_count": 73,
   "metadata": {},
   "outputs": [
    {
     "data": {
      "text/plain": [
       "(1400, 21)"
      ]
     },
     "execution_count": 73,
     "metadata": {},
     "output_type": "execute_result"
    }
   ],
   "source": [
    "#Mostrar a estrutura\n",
    "dados.shape"
   ]
  },
  {
   "cell_type": "code",
   "execution_count": 74,
   "metadata": {},
   "outputs": [
    {
     "data": {
      "text/plain": [
       "Index(['Id_Funcionario', 'Idade', 'Genero', 'Estado Civil', 'Departamento',\n",
       "       'Funcao', 'Viagem', 'Valor Diaria', 'Indice_Envolvimento_Trabalho',\n",
       "       'Nivel_Satisfacao_Trabalho', 'Salario_Mensal',\n",
       "       'Numero_Empresas_Anteriores', 'Disponivel_Hora_Extra',\n",
       "       'Percentual_Ultimo_Aumento_Salario', 'Aval_Performance',\n",
       "       'Anos_Experiencia', 'Numero_Treinamentos_Ano_Anterior',\n",
       "       'Anos_na_Empresa', 'Anos_Funcao_Atual', 'Anos_Desde_Ultima_Promocao',\n",
       "       'Anos_com_Gerente_Atual'],\n",
       "      dtype='object')"
      ]
     },
     "execution_count": 74,
     "metadata": {},
     "output_type": "execute_result"
    }
   ],
   "source": [
    "#Exibir o nome das colunas\n",
    "\n",
    "dados.columns"
   ]
  },
  {
   "cell_type": "code",
   "execution_count": 75,
   "metadata": {},
   "outputs": [],
   "source": [
    "import matplotlib.pyplot as plt\n",
    "import numpy as np\n",
    "#importando matplotlib"
   ]
  },
  {
   "cell_type": "code",
   "execution_count": 76,
   "metadata": {},
   "outputs": [
    {
     "data": {
      "text/plain": [
       "array([0, 1, 0, ..., 2, 2, 2])"
      ]
     },
     "execution_count": 76,
     "metadata": {},
     "output_type": "execute_result"
    }
   ],
   "source": [
    "ultima_promo = dados['Anos_Desde_Ultima_Promocao']\n",
    "ultima_promo = np.array(ultima_promo)\n",
    "\n",
    "(ultima_promo)"
   ]
  },
  {
   "cell_type": "code",
   "execution_count": 77,
   "metadata": {},
   "outputs": [
    {
     "data": {
      "text/plain": [
       "0       15993\n",
       "1       15130\n",
       "2       12090\n",
       "3       12909\n",
       "4       13468\n",
       "        ...  \n",
       "1395    15617\n",
       "1396    10448\n",
       "1397    12897\n",
       "1398     5968\n",
       "1399    15968\n",
       "Name: Salario_Mensal, Length: 1400, dtype: int64"
      ]
     },
     "execution_count": 77,
     "metadata": {},
     "output_type": "execute_result"
    }
   ],
   "source": [
    "dados['Salario_Mensal']"
   ]
  },
  {
   "cell_type": "code",
   "execution_count": 78,
   "metadata": {},
   "outputs": [
    {
     "data": {
      "text/plain": [
       "0        Feminino\n",
       "1       Masculino\n",
       "2       Masculino\n",
       "3        Feminino\n",
       "4       Masculino\n",
       "          ...    \n",
       "1395    Masculino\n",
       "1396    Masculino\n",
       "1397     Feminino\n",
       "1398    Masculino\n",
       "1399    Masculino\n",
       "Name: Genero, Length: 1400, dtype: object"
      ]
     },
     "execution_count": 78,
     "metadata": {},
     "output_type": "execute_result"
    }
   ],
   "source": [
    "dados['Genero']"
   ]
  },
  {
   "cell_type": "code",
   "execution_count": 79,
   "metadata": {},
   "outputs": [
    {
     "data": {
      "image/png": "[encoded data removed]",
      "text/plain": [
       "<Figure size 600x400 with 1 Axes>"
      ]
     },
     "metadata": {},
     "output_type": "display_data"
    }
   ],
   "source": [
    "plt.figure(figsize=(6,4))\n",
    "dados['Genero'].value_counts().plot(kind='bar', color=['blue', 'pink'])\n",
    "plt.title('Distribuição de Gênero')\n",
    "plt.xlabel('Gênero')\n",
    "plt.ylabel('Contagem')\n",
    "plt.xticks(rotation=0)\n",
    "plt.show()"
   ]
  },
  {
   "cell_type": "code",
   "execution_count": 80,
   "metadata": {},
   "outputs": [
    {
     "data": {
      "image/png": "[encoded data removed]",
      "text/plain": [
       "<Figure size 600x400 with 1 Axes>"
      ]
     },
     "metadata": {},
     "output_type": "display_data"
    }
   ],
   "source": [
    "# : Satisfação no trabalho por genero\n",
    "satisfacao_genero = dados.groupby('Genero')['Nivel_Satisfacao_Trabalho'].mean()\n",
    "\n",
    "plt.figure(figsize=(6,4))\n",
    "plt.bar(satisfacao_genero.index, satisfacao_genero.values, color=['blue', 'pink'])\n",
    "plt.title('Satisfação no Trabalho por Gênero')\n",
    "plt.xlabel('Genero')\n",
    "plt.ylabel('Nível Médio desatisfação')\n",
    "plt.xticks(rotation=0)\n",
    "plt.ylim(0, dados['Nivel_Satisfacao_Trabalho'].max() + 1)\n",
    "plt.show()"
   ]
  },
  {
   "cell_type": "code",
   "execution_count": 81,
   "metadata": {},
   "outputs": [
    {
     "data": {
      "image/png": "[encoded data removed]",
      "text/plain": [
       "<Figure size 600x400 with 1 Axes>"
      ]
     },
     "metadata": {},
     "output_type": "display_data"
    }
   ],
   "source": [
    "renda_media_genero = dados.groupby('Genero')['Salario_Mensal'].mean()\n",
    "\n",
    "plt.figure(figsize=(6,4))\n",
    "plt.bar(renda_media_genero.index, renda_media_genero.values, color=['blue', 'pink'])\n",
    "plt.title('Renda Média por Gênero')\n",
    "plt.xlabel('Gênero')\n",
    "plt.ylabel('Renda Média')\n",
    "plt.xticks(rotation=0)\n",
    "plt.show()"
   ]
  }
 ],
 "metadata": {
  "kernelspec": {
   "display_name": "Python 3",
   "language": "python",
   "name": "python3"
  },
  "language_info": {
   "codemirror_mode": {
    "name": "ipython",
    "version": 3
   },
   "file_extension": ".py",
   "mimetype": "text/x-python",
   "name": "python",
   "nbconvert_exporter": "python",
   "pygments_lexer": "ipython3",
   "version": "3.12.3"
  }
 },
 "nbformat": 4,
 "nbformat_minor": 2
}
